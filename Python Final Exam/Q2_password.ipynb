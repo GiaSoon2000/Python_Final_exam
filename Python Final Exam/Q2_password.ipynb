{
 "cells": [
  {
   "cell_type": "code",
   "execution_count": 2,
   "id": "37871f01-b6f2-4268-803e-42f5c91d270e",
   "metadata": {},
   "outputs": [
    {
     "name": "stdout",
     "output_type": "stream",
     "text": [
      "Password: _ _ _ _ _ _ _ _ _ _\n",
      "Incorrect guesses remaining: 6\n"
     ]
    },
    {
     "name": "stdin",
     "output_type": "stream",
     "text": [
      "Guess a letter:  1\n"
     ]
    },
    {
     "name": "stdout",
     "output_type": "stream",
     "text": [
      "You guessed: 1\n",
      "Good guess!\n",
      "Hangman: \n",
      "         \n",
      "  \n",
      " \n",
      "\n",
      "Password: _ _ _ _ _ _ _ _ _ 1\n",
      "Incorrect guesses remaining: 6\n"
     ]
    },
    {
     "name": "stdin",
     "output_type": "stream",
     "text": [
      "Guess a letter:  s\n"
     ]
    },
    {
     "name": "stdout",
     "output_type": "stream",
     "text": [
      "You guessed: s\n",
      "Incorrect guess!\n",
      "Hangman: O\n",
      "         \n",
      "  \n",
      " \n",
      "\n",
      "Password: _ _ _ _ _ _ _ _ _ 1\n",
      "Incorrect guesses remaining: 5\n"
     ]
    },
    {
     "name": "stdin",
     "output_type": "stream",
     "text": [
      "Guess a letter:  d\n"
     ]
    },
    {
     "name": "stdout",
     "output_type": "stream",
     "text": [
      "You guessed: d\n",
      "Incorrect guess!\n",
      "Hangman: O\n",
      "         |\n",
      "  \n",
      " \n",
      "\n",
      "Password: _ _ _ _ _ _ _ _ _ 1\n",
      "Incorrect guesses remaining: 4\n"
     ]
    },
    {
     "name": "stdin",
     "output_type": "stream",
     "text": [
      "Guess a letter:  D\n"
     ]
    },
    {
     "name": "stdout",
     "output_type": "stream",
     "text": [
      "You guessed: d\n",
      "You already guessed that letter. It counts as an incorrect guess.\n",
      "Hangman: O\n",
      "         |\n",
      "       /  \n",
      " \n",
      "\n",
      "Password: _ _ _ _ _ _ _ _ _ 1\n",
      "Incorrect guesses remaining: 3\n"
     ]
    },
    {
     "name": "stdin",
     "output_type": "stream",
     "text": [
      "Guess a letter:  a\n"
     ]
    },
    {
     "name": "stdout",
     "output_type": "stream",
     "text": [
      "You guessed: a\n",
      "Incorrect guess!\n",
      "Hangman: O\n",
      "         |\n",
      "       / | \n",
      " \n",
      "\n",
      "Password: _ _ _ _ _ _ _ _ _ 1\n",
      "Incorrect guesses remaining: 2\n"
     ]
    },
    {
     "name": "stdin",
     "output_type": "stream",
     "text": [
      "Guess a letter:  o\n"
     ]
    },
    {
     "name": "stdout",
     "output_type": "stream",
     "text": [
      "You guessed: o\n",
      "Good guess!\n",
      "Hangman: O\n",
      "         |\n",
      "       / | \n",
      " \n",
      "\n",
      "Password: _ _ _ _ _ o _ _ _ 1\n",
      "Incorrect guesses remaining: 2\n"
     ]
    },
    {
     "name": "stdin",
     "output_type": "stream",
     "text": [
      "Guess a letter:  e\n"
     ]
    },
    {
     "name": "stdout",
     "output_type": "stream",
     "text": [
      "You guessed: e\n",
      "Good guess!\n",
      "Hangman: O\n",
      "         |\n",
      "       / | \n",
      " \n",
      "\n",
      "Password: _ e _ e _ o _ e _ 1\n",
      "Incorrect guesses remaining: 2\n"
     ]
    },
    {
     "name": "stdin",
     "output_type": "stream",
     "text": [
      "Guess a letter:  D\n"
     ]
    },
    {
     "name": "stdout",
     "output_type": "stream",
     "text": [
      "You guessed: d\n",
      "You already guessed that letter. It counts as an incorrect guess.\n",
      "Hangman: O\n",
      "         |\n",
      "       / | \\\n",
      " \n",
      "\n",
      "Password: _ e _ e _ o _ e _ 1\n",
      "Incorrect guesses remaining: 1\n"
     ]
    },
    {
     "name": "stdin",
     "output_type": "stream",
     "text": [
      "Guess a letter:  v\n"
     ]
    },
    {
     "name": "stdout",
     "output_type": "stream",
     "text": [
      "You guessed: v\n",
      "Good guess!\n",
      "Hangman: O\n",
      "         |\n",
      "       / | \\\n",
      " \n",
      "\n",
      "Password: _ e v e _ o _ e _ 1\n",
      "Incorrect guesses remaining: 1\n"
     ]
    },
    {
     "name": "stdin",
     "output_type": "stream",
     "text": [
      "Guess a letter:  l\n"
     ]
    },
    {
     "name": "stdout",
     "output_type": "stream",
     "text": [
      "You guessed: l\n",
      "Good guess!\n",
      "Hangman: O\n",
      "         |\n",
      "       / | \\\n",
      " \n",
      "\n",
      "Password: _ e v e l o _ e _ 1\n",
      "Incorrect guesses remaining: 1\n"
     ]
    },
    {
     "name": "stdin",
     "output_type": "stream",
     "text": [
      "Guess a letter:  p\n"
     ]
    },
    {
     "name": "stdout",
     "output_type": "stream",
     "text": [
      "You guessed: p\n",
      "Good guess!\n",
      "Hangman: O\n",
      "         |\n",
      "       / | \\\n",
      " \n",
      "\n",
      "Password: _ e v e l o p e _ 1\n",
      "Incorrect guesses remaining: 1\n"
     ]
    },
    {
     "name": "stdin",
     "output_type": "stream",
     "text": [
      "Guess a letter:  r\n"
     ]
    },
    {
     "name": "stdout",
     "output_type": "stream",
     "text": [
      "You guessed: r\n",
      "Good guess!\n",
      "Hangman: O\n",
      "         |\n",
      "       / | \\\n",
      " \n",
      "\n",
      "Password: _ e v e l o p e r 1\n",
      "Incorrect guesses remaining: 1\n"
     ]
    },
    {
     "name": "stdin",
     "output_type": "stream",
     "text": [
      "Guess a letter:  D\n"
     ]
    },
    {
     "name": "stdout",
     "output_type": "stream",
     "text": [
      "You guessed: d\n",
      "You already guessed that letter. It counts as an incorrect guess.\n",
      "Hangman: O\n",
      "         |\n",
      "       / | \\\n",
      "       / \n",
      "\n",
      "You ran out of guesses! The password was: Developer1\n"
     ]
    }
   ],
   "source": [
    "import random\n",
    "\n",
    "def password():\n",
    "    # Create a list of words (all words must be longer than six characters)\n",
    "    password_list = [\"Program1\", \"Difficult1\", \"Computer1\", \"Developer1\"]\n",
    "    \n",
    "    # Randomly select a word from the list\n",
    "    selected_password = random.choice(password_list)\n",
    "    \n",
    "    # Initialize the hidden word with underscores\n",
    "    hidden_password = [\"_\"] * len(selected_password)\n",
    "    \n",
    "    # Set the number of allowed incorrect guesses\n",
    "    allowed_incorrect_guesses = 6\n",
    "    incorrect_guesses = 0\n",
    "    \n",
    "    # Track the guessed letters\n",
    "    guessed_letters = set()\n",
    "    \n",
    "    # Game loop\n",
    "    while incorrect_guesses < allowed_incorrect_guesses and \"_\" in hidden_password:\n",
    "        # Display the current state of the word\n",
    "        print(\"Password:\", \" \".join(hidden_password))\n",
    "        print(f\"Incorrect guesses remaining: {allowed_incorrect_guesses - incorrect_guesses}\")\n",
    "        \n",
    "        # Prompt the user to guess a letter\n",
    "        guess = input(\"Guess a letter: \").lower()\n",
    "        print(f\"You guessed: {guess}\")\n",
    "        \n",
    "        # Check if the letter has already been guessed\n",
    "        if guess in guessed_letters:\n",
    "            print(\"You already guessed that letter. It counts as an incorrect guess.\")\n",
    "            incorrect_guesses += 1\n",
    "        else:\n",
    "            # Add the guessed letter to the set of guessed letters\n",
    "            guessed_letters.add(guess)\n",
    "            \n",
    "            # Check if the guessed letter is in the selected password\n",
    "            if guess in selected_password:\n",
    "                # Update the hidden word with the correct guess\n",
    "                for i, letter in enumerate(selected_password):\n",
    "                    if letter == guess:\n",
    "                        hidden_password[i] = guess\n",
    "                print(\"Good guess!\")\n",
    "            else:\n",
    "                # Increment the number of incorrect guesses\n",
    "                incorrect_guesses += 1\n",
    "                print(\"Incorrect guess!\")\n",
    "        \n",
    "        # Display the hangman visual (simple version)\n",
    "        print(\"Hangman:\", \"O\" if incorrect_guesses > 0 else \"\")\n",
    "        print(\"        \", \"|\" if incorrect_guesses > 1 else \"\")\n",
    "        print(\"       /\" if incorrect_guesses > 2 else \"\", \"|\" if incorrect_guesses > 3 else \"\", \"\\\\\" if incorrect_guesses > 4 else \"\")\n",
    "        print(\"       /\" if incorrect_guesses > 5 else \"\", \" \\\\\" if incorrect_guesses > 6 else \"\")\n",
    "        print()\n",
    "    \n",
    "    # Check if the player won or lost\n",
    "    if \"_\" not in hidden_password:\n",
    "        print(\"Congratulations! You guessed the password:\", selected_password)\n",
    "    else:\n",
    "        print(\"You ran out of guesses! The password was:\", selected_password)\n",
    "\n",
    "# Run the password guess\n",
    "password()"
   ]
  },
  {
   "cell_type": "code",
   "execution_count": null,
   "id": "0d99aaf2-d150-4dde-972e-03676119b647",
   "metadata": {},
   "outputs": [],
   "source": []
  }
 ],
 "metadata": {
  "kernelspec": {
   "display_name": "Python 3 (ipykernel)",
   "language": "python",
   "name": "python3"
  },
  "language_info": {
   "codemirror_mode": {
    "name": "ipython",
    "version": 3
   },
   "file_extension": ".py",
   "mimetype": "text/x-python",
   "name": "python",
   "nbconvert_exporter": "python",
   "pygments_lexer": "ipython3",
   "version": "3.11.7"
  }
 },
 "nbformat": 4,
 "nbformat_minor": 5
}
